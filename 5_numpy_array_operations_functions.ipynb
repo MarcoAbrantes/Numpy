{
  "nbformat": 4,
  "nbformat_minor": 0,
  "metadata": {
    "colab": {
      "name": "numpy-array-operations.ipynb",
      "provenance": [],
      "include_colab_link": true
    },
    "kernelspec": {
      "display_name": "Python 3",
      "language": "python",
      "name": "python3"
    },
    "language_info": {
      "codemirror_mode": {
        "name": "ipython",
        "version": 3
      },
      "file_extension": ".py",
      "mimetype": "text/x-python",
      "name": "python",
      "nbconvert_exporter": "python",
      "pygments_lexer": "ipython3",
      "version": "3.8.6"
    }
  },
  "cells": [
    {
      "cell_type": "markdown",
      "metadata": {
        "id": "view-in-github",
        "colab_type": "text"
      },
      "source": [
        "<a href=\"https://colab.research.google.com/github/MarcoAbrantes/Numpy/blob/main/5_numpy_array_operations_functions.ipynb\" target=\"_parent\"><img src=\"https://colab.research.google.com/assets/colab-badge.svg\" alt=\"Open In Colab\"/></a>"
      ]
    },
    {
      "cell_type": "markdown",
      "metadata": {
        "id": "Ajw_WeO_PUg4"
      },
      "source": [
        "# 5 Numpy functions that you've might not know.\n",
        "\n",
        "\n",
        "### Functions that you might or might not will use on the normal usage of Numpy\n",
        "\n",
        "> Numpy is a Python library that was created by Travis Oliphant in 2005. It is an open source project that anyone can use for free. Numpy stands for Numerical Python and it was created to handle arrays and multidimentional matrices with a shorter usage of computational memory than the original program language, Python. It has a large number of functions to work within those structures (arrays and matrices). On a regular basis, as a Data Cientist, you will not work directly with Numpy, but use other tools that where built based on the Numpy library, like Pandas.\n",
        "\n",
        "- Function 1 - [numpy.identity](#function1)\n",
        "- Function 2 - [numpy.rot90](#function2)\n",
        "- Function 3 - [numpy.sort](#function3)\n",
        "- Function 4 - [numpy.extract](#function4)\n",
        "- Function 5 - [numpy.count_nonzero](#function5)\n",
        "\n",
        "**Note:** Click on the links of each function to direct you to the corresponding section.\n",
        "\n",
        "The recommended way to run this notebook is to click the \"Run\" button at the top of this page, and select \"Run on Binder\". This will run the notebook on mybinder.org, a free online service for running Jupyter notebooks."
      ]
    },
    {
      "cell_type": "markdown",
      "metadata": {
        "id": "L6GnvkRZPUg7"
      },
      "source": [
        "Let's begin by importing Numpy and listing out the functions covered in this notebook."
      ]
    },
    {
      "cell_type": "code",
      "metadata": {
        "id": "eh65erDvPUg8"
      },
      "source": [
        "import numpy as np"
      ],
      "execution_count": null,
      "outputs": []
    },
    {
      "cell_type": "code",
      "metadata": {
        "id": "Fsnp6ataPUg8"
      },
      "source": [
        "# List of functions explained \n",
        "function1 = np.identity\n",
        "function2 = np.rot90\n",
        "function3 = np.sort\n",
        "function4 = np.extract\n",
        "function5 = np.count_nonzero"
      ],
      "execution_count": null,
      "outputs": []
    },
    {
      "cell_type": "markdown",
      "metadata": {
        "id": "n7BWHJWDPUg8"
      },
      "source": [
        "<a id='function1'></a>\n",
        "## Function 1 - np.identity\n",
        "\n",
        "> **np.identity(n, dtype=None)**\n",
        ">\n",
        "> It creates a square array with ones on the main diagonal. It was created based on the `np.eye` function to simplify the process of creating what is known as identity matrix.\n",
        "\n",
        "\n",
        "##### For more detail please consult the official documentation [here](https://numpy.org/devdocs/reference/generated/numpy.identity.html#)"
      ]
    },
    {
      "cell_type": "code",
      "metadata": {
        "id": "i9og86QJPUg9",
        "outputId": "976893c9-f160-4ef0-b4bb-77f6c879f4a5"
      },
      "source": [
        "# Example 1 - working \n",
        "\n",
        "identity_matrix1 = np.identity(3)\n",
        "print(\"This a 3x3 identity matrix with float numbers:\\n\")\n",
        "print(identity_matrix1, \"\\n\")\n",
        "\n",
        "identity_matrix2 = np.identity(4, int)\n",
        "print(\"This is a 4x4 identity matrix with integers:\\n\")\n",
        "print(identity_matrix2)"
      ],
      "execution_count": null,
      "outputs": [
        {
          "output_type": "stream",
          "text": [
            "This a 3x3 identity matrix with float numbers:\n",
            "\n",
            "[[1. 0. 0.]\n",
            " [0. 1. 0.]\n",
            " [0. 0. 1.]] \n",
            "\n",
            "This is a 4x4 identity matrix with integers:\n",
            "\n",
            "[[1 0 0 0]\n",
            " [0 1 0 0]\n",
            " [0 0 1 0]\n",
            " [0 0 0 1]]\n"
          ],
          "name": "stdout"
        }
      ]
    },
    {
      "cell_type": "markdown",
      "metadata": {
        "id": "BqgTyqYhPUg-"
      },
      "source": [
        "Above examples demonstrate how to create identity matrices with float numbers and integers. Ignoring the second parameter of this function will create a float point number identity matrix."
      ]
    },
    {
      "cell_type": "code",
      "metadata": {
        "id": "k8XIh5cqPUg-",
        "outputId": "70105505-dc65-426d-c3bc-56d50500edc6"
      },
      "source": [
        "# Example 2 - working\n",
        "\n",
        "identity_matrix3 = np.identity(5, str)\n",
        "print(\"This is a 5x5 identity matrix made with strings:\\n\")\n",
        "print(identity_matrix3, \"\\n\")\n",
        "\n",
        "# getting really grafic here\n",
        "identity_matrix4 = np.identity(10, bool)\n",
        "print(\"This is a 10x10 identity matrix made with booleans:\\n\")\n",
        "print(identity_matrix4)"
      ],
      "execution_count": null,
      "outputs": [
        {
          "output_type": "stream",
          "text": [
            "This is a 5x5 identity matrix with empty strings:\n",
            "\n",
            "[['1' '' '' '' '']\n",
            " ['' '1' '' '' '']\n",
            " ['' '' '1' '' '']\n",
            " ['' '' '' '1' '']\n",
            " ['' '' '' '' '1']] \n",
            "\n",
            "This is a 10x10 identity matrix made with booleans:\n",
            "\n",
            "[[ True False False False False False False False False False]\n",
            " [False  True False False False False False False False False]\n",
            " [False False  True False False False False False False False]\n",
            " [False False False  True False False False False False False]\n",
            " [False False False False  True False False False False False]\n",
            " [False False False False False  True False False False False]\n",
            " [False False False False False False  True False False False]\n",
            " [False False False False False False False  True False False]\n",
            " [False False False False False False False False  True False]\n",
            " [False False False False False False False False False  True]]\n"
          ],
          "name": "stdout"
        }
      ]
    },
    {
      "cell_type": "markdown",
      "metadata": {
        "id": "giu0fSKTPUg-"
      },
      "source": [
        "These two examples demonstrate that, with this function, you can create diferent identity matrices with the diferent primitive data types `str` and `bool`."
      ]
    },
    {
      "cell_type": "code",
      "metadata": {
        "id": "7c7qew82PUg_",
        "outputId": "1b29734a-f68a-4aad-bd02-45d3655b7c96"
      },
      "source": [
        "# Example 3 - breaking (to illustrate when it breaks)\n",
        "\n",
        "np.identity(3, 3)"
      ],
      "execution_count": null,
      "outputs": [
        {
          "output_type": "error",
          "ename": "TypeError",
          "evalue": "Cannot interpret '3' as a data type",
          "traceback": [
            "\u001b[0;31m---------------------------------------------------------------------------\u001b[0m",
            "\u001b[0;31mTypeError\u001b[0m                                 Traceback (most recent call last)",
            "\u001b[0;32m<ipython-input-15-730405bd50c2>\u001b[0m in \u001b[0;36m<module>\u001b[0;34m\u001b[0m\n\u001b[1;32m      1\u001b[0m \u001b[0;31m# Example 3 - breaking (to illustrate when it breaks)\u001b[0m\u001b[0;34m\u001b[0m\u001b[0;34m\u001b[0m\u001b[0;34m\u001b[0m\u001b[0m\n\u001b[1;32m      2\u001b[0m \u001b[0;34m\u001b[0m\u001b[0m\n\u001b[0;32m----> 3\u001b[0;31m \u001b[0mnp\u001b[0m\u001b[0;34m.\u001b[0m\u001b[0midentity\u001b[0m\u001b[0;34m(\u001b[0m\u001b[0;36m3\u001b[0m\u001b[0;34m,\u001b[0m \u001b[0;36m3\u001b[0m\u001b[0;34m)\u001b[0m\u001b[0;34m\u001b[0m\u001b[0;34m\u001b[0m\u001b[0m\n\u001b[0m",
            "\u001b[0;32m/opt/conda/lib/python3.8/site-packages/numpy/core/numeric.py\u001b[0m in \u001b[0;36midentity\u001b[0;34m(n, dtype)\u001b[0m\n\u001b[1;32m   2112\u001b[0m     \"\"\"\n\u001b[1;32m   2113\u001b[0m     \u001b[0;32mfrom\u001b[0m \u001b[0mnumpy\u001b[0m \u001b[0;32mimport\u001b[0m \u001b[0meye\u001b[0m\u001b[0;34m\u001b[0m\u001b[0;34m\u001b[0m\u001b[0m\n\u001b[0;32m-> 2114\u001b[0;31m     \u001b[0;32mreturn\u001b[0m \u001b[0meye\u001b[0m\u001b[0;34m(\u001b[0m\u001b[0mn\u001b[0m\u001b[0;34m,\u001b[0m \u001b[0mdtype\u001b[0m\u001b[0;34m=\u001b[0m\u001b[0mdtype\u001b[0m\u001b[0;34m)\u001b[0m\u001b[0;34m\u001b[0m\u001b[0;34m\u001b[0m\u001b[0m\n\u001b[0m\u001b[1;32m   2115\u001b[0m \u001b[0;34m\u001b[0m\u001b[0m\n\u001b[1;32m   2116\u001b[0m \u001b[0;34m\u001b[0m\u001b[0m\n",
            "\u001b[0;32m/opt/conda/lib/python3.8/site-packages/numpy/lib/twodim_base.py\u001b[0m in \u001b[0;36meye\u001b[0;34m(N, M, k, dtype, order)\u001b[0m\n\u001b[1;32m    197\u001b[0m     \u001b[0;32mif\u001b[0m \u001b[0mM\u001b[0m \u001b[0;32mis\u001b[0m \u001b[0;32mNone\u001b[0m\u001b[0;34m:\u001b[0m\u001b[0;34m\u001b[0m\u001b[0;34m\u001b[0m\u001b[0m\n\u001b[1;32m    198\u001b[0m         \u001b[0mM\u001b[0m \u001b[0;34m=\u001b[0m \u001b[0mN\u001b[0m\u001b[0;34m\u001b[0m\u001b[0;34m\u001b[0m\u001b[0m\n\u001b[0;32m--> 199\u001b[0;31m     \u001b[0mm\u001b[0m \u001b[0;34m=\u001b[0m \u001b[0mzeros\u001b[0m\u001b[0;34m(\u001b[0m\u001b[0;34m(\u001b[0m\u001b[0mN\u001b[0m\u001b[0;34m,\u001b[0m \u001b[0mM\u001b[0m\u001b[0;34m)\u001b[0m\u001b[0;34m,\u001b[0m \u001b[0mdtype\u001b[0m\u001b[0;34m=\u001b[0m\u001b[0mdtype\u001b[0m\u001b[0;34m,\u001b[0m \u001b[0morder\u001b[0m\u001b[0;34m=\u001b[0m\u001b[0morder\u001b[0m\u001b[0;34m)\u001b[0m\u001b[0;34m\u001b[0m\u001b[0;34m\u001b[0m\u001b[0m\n\u001b[0m\u001b[1;32m    200\u001b[0m     \u001b[0;32mif\u001b[0m \u001b[0mk\u001b[0m \u001b[0;34m>=\u001b[0m \u001b[0mM\u001b[0m\u001b[0;34m:\u001b[0m\u001b[0;34m\u001b[0m\u001b[0;34m\u001b[0m\u001b[0m\n\u001b[1;32m    201\u001b[0m         \u001b[0;32mreturn\u001b[0m \u001b[0mm\u001b[0m\u001b[0;34m\u001b[0m\u001b[0;34m\u001b[0m\u001b[0m\n",
            "\u001b[0;31mTypeError\u001b[0m: Cannot interpret '3' as a data type"
          ]
        }
      ]
    },
    {
      "cell_type": "markdown",
      "metadata": {
        "id": "APrjxb-APUg_"
      },
      "source": [
        "The simple use of this function almost doesn't have error margin, but when you insert a number or anything different than a primitive data type as `None == float`, `int`, `str`, `bool` on the second parameter, it will rase an error.\n",
        "\n",
        "A similar result would occur when we don't insert any parameter."
      ]
    },
    {
      "cell_type": "markdown",
      "metadata": {
        "id": "MPH4teUbPUg_"
      },
      "source": [
        "**Conclusion:**\n",
        "Whenever it is needed the creation of an identity matrix, this is the simplest way to do it. Like said on the introduction this is one of the several functions that you might or might not use."
      ]
    },
    {
      "cell_type": "markdown",
      "metadata": {
        "id": "DHcQwzHvPUhB"
      },
      "source": [
        "<a id='function2'></a>\n",
        "## Function 2 - np.rot90\n",
        "\n",
        "> **np.rot90(m, k=1, axes=(0, 1))**\n",
        ">\n",
        "> Rotate any array of two or more dimentions by 90 degrees in the plane specified by axes.\n",
        ">\n",
        "> Rotation direction is from the first towards the second axis.\n",
        "\n",
        "##### For more detail please consult the official documentation [here](https://numpy.org/devdocs/reference/generated/numpy.rot90.html#)"
      ]
    },
    {
      "cell_type": "code",
      "metadata": {
        "id": "EUgzhsAdPUhB",
        "outputId": "befe81d7-1d14-4af5-d908-ef84702ca3c4"
      },
      "source": [
        "# Example 1 - working\n",
        "arr = np.arange(9).reshape(3,3) # First create an array or use one already created.\n",
        "print(\"Original array:\\n\")\n",
        "print(arr, \"\\n\")\n",
        "\n",
        "rot_arr = np.rot90(arr) # Simplest way to use the function,'m' parameter that should be a 2D array as minimum.\n",
        "print(\"Rotated array:\\n\")\n",
        "print(rot_arr,\"\\n\")\n",
        "\n",
        "new_arr = np.rot90(rot_arr,-1) # Let's invert the rotation of 'rot_arr' to see what happens.\n",
        "print(\"New array (like Original array):\\n\")\n",
        "print(new_arr)"
      ],
      "execution_count": null,
      "outputs": [
        {
          "output_type": "stream",
          "text": [
            "Original array:\n",
            "\n",
            "[[0 1 2]\n",
            " [3 4 5]\n",
            " [6 7 8]] \n",
            "\n",
            "Rotated array:\n",
            "\n",
            "[[2 5 8]\n",
            " [1 4 7]\n",
            " [0 3 6]] \n",
            "\n",
            "New array (like Original array):\n",
            "\n",
            "[[0 1 2]\n",
            " [3 4 5]\n",
            " [6 7 8]]\n"
          ],
          "name": "stdout"
        }
      ]
    },
    {
      "cell_type": "markdown",
      "metadata": {
        "id": "AA5AFkkBPUhB"
      },
      "source": [
        "As demonstrated, this is one of the simplest ways of using this function. It will rotate any array (2D as minimum) by 90 degrees inverted clockwise. This is because the `k` parameter is `=1` by default, if we use `k=-1` it will rotate 90 degrees clockwise."
      ]
    },
    {
      "cell_type": "code",
      "metadata": {
        "id": "ix4Fi4YrPUhC",
        "outputId": "0bf80c54-562a-4680-95cc-e274be17682d"
      },
      "source": [
        "# Example 2 - working\n",
        "arr1 = np.identity(4, int) # Let's play with the axes in an identity matrix\n",
        "print(\"Original matrix:\\n\")\n",
        "print(arr1,\"\\n\")\n",
        "\n",
        "rot_arr1 = np.rot90(arr1, 1, (0,1)) # np.rot90(arr1) would result on the same output.\n",
        "print(\"Rotated matrix:\\n\")\n",
        "print(rot_arr1, \"\\n\")\n",
        "\n",
        "new_arr1 = np.rot90(rot_arr1, 1, (1,0)) # Inverting the axes (0,1)(1,0) have the same result as 'k=-1'\n",
        "print(\"New matrix (back to the original form)\\n\")\n",
        "print(new_arr1)"
      ],
      "execution_count": null,
      "outputs": [
        {
          "output_type": "stream",
          "text": [
            "Original matrix:\n",
            "\n",
            "[[1 0 0 0]\n",
            " [0 1 0 0]\n",
            " [0 0 1 0]\n",
            " [0 0 0 1]] \n",
            "\n",
            "Rotated matrix:\n",
            "\n",
            "[[0 0 0 1]\n",
            " [0 0 1 0]\n",
            " [0 1 0 0]\n",
            " [1 0 0 0]] \n",
            "\n",
            "New matrix (back to the original form)\n",
            "\n",
            "[[1 0 0 0]\n",
            " [0 1 0 0]\n",
            " [0 0 1 0]\n",
            " [0 0 0 1]]\n"
          ],
          "name": "stdout"
        }
      ]
    },
    {
      "cell_type": "markdown",
      "metadata": {
        "id": "dW_rtZtqPUhC"
      },
      "source": [
        "Here the objective was to explain in a simple and more graffic way how to work with the axes parameter. So the bottom line is that when we use the second parameter `k=1` it equals `axes=(0,1)`. The inversion of this operation is `k=-1` == `axes=(1,0)`. There are more advanced uses of these two parameters with 3D, 4D, etc. arrays but for a better and easy understanding I used only 2D arrays."
      ]
    },
    {
      "cell_type": "code",
      "metadata": {
        "id": "QZIgVkVOPUhC",
        "outputId": "8a2e1cd4-3457-48c3-a81a-6c5a51d795b2"
      },
      "source": [
        "# Example 3 - breaking (to illustrate when it breaks)\n",
        "\n",
        "example = np.rot90(np.arange(8).reshape(2,2,2), k=1, axes=(2,3))\n",
        "print(example)"
      ],
      "execution_count": null,
      "outputs": [
        {
          "output_type": "error",
          "ename": "ValueError",
          "evalue": "Axes=(2, 3) out of range for array of ndim=3.",
          "traceback": [
            "\u001b[0;31m---------------------------------------------------------------------------\u001b[0m",
            "\u001b[0;31mValueError\u001b[0m                                Traceback (most recent call last)",
            "\u001b[0;32m<ipython-input-7-4d05821ab9b1>\u001b[0m in \u001b[0;36m<module>\u001b[0;34m\u001b[0m\n\u001b[1;32m      1\u001b[0m \u001b[0;31m# Example 3 - breaking (to illustrate when it breaks)\u001b[0m\u001b[0;34m\u001b[0m\u001b[0;34m\u001b[0m\u001b[0;34m\u001b[0m\u001b[0m\n\u001b[1;32m      2\u001b[0m \u001b[0;34m\u001b[0m\u001b[0m\n\u001b[0;32m----> 3\u001b[0;31m \u001b[0mexample\u001b[0m \u001b[0;34m=\u001b[0m \u001b[0mnp\u001b[0m\u001b[0;34m.\u001b[0m\u001b[0mrot90\u001b[0m\u001b[0;34m(\u001b[0m\u001b[0mnp\u001b[0m\u001b[0;34m.\u001b[0m\u001b[0marange\u001b[0m\u001b[0;34m(\u001b[0m\u001b[0;36m8\u001b[0m\u001b[0;34m)\u001b[0m\u001b[0;34m.\u001b[0m\u001b[0mreshape\u001b[0m\u001b[0;34m(\u001b[0m\u001b[0;36m2\u001b[0m\u001b[0;34m,\u001b[0m\u001b[0;36m2\u001b[0m\u001b[0;34m,\u001b[0m\u001b[0;36m2\u001b[0m\u001b[0;34m)\u001b[0m\u001b[0;34m,\u001b[0m \u001b[0mk\u001b[0m\u001b[0;34m=\u001b[0m\u001b[0;36m1\u001b[0m\u001b[0;34m,\u001b[0m \u001b[0maxes\u001b[0m\u001b[0;34m=\u001b[0m\u001b[0;34m(\u001b[0m\u001b[0;36m2\u001b[0m\u001b[0;34m,\u001b[0m\u001b[0;36m3\u001b[0m\u001b[0;34m)\u001b[0m\u001b[0;34m)\u001b[0m\u001b[0;34m\u001b[0m\u001b[0;34m\u001b[0m\u001b[0m\n\u001b[0m\u001b[1;32m      4\u001b[0m \u001b[0mprint\u001b[0m\u001b[0;34m(\u001b[0m\u001b[0mexample\u001b[0m\u001b[0;34m)\u001b[0m\u001b[0;34m\u001b[0m\u001b[0;34m\u001b[0m\u001b[0m\n",
            "\u001b[0;32m<__array_function__ internals>\u001b[0m in \u001b[0;36mrot90\u001b[0;34m(*args, **kwargs)\u001b[0m\n",
            "\u001b[0;32m/opt/conda/lib/python3.8/site-packages/numpy/lib/function_base.py\u001b[0m in \u001b[0;36mrot90\u001b[0;34m(m, k, axes)\u001b[0m\n\u001b[1;32m    123\u001b[0m     if (axes[0] >= m.ndim or axes[0] < -m.ndim\n\u001b[1;32m    124\u001b[0m         or axes[1] >= m.ndim or axes[1] < -m.ndim):\n\u001b[0;32m--> 125\u001b[0;31m         raise ValueError(\"Axes={} out of range for array of ndim={}.\"\n\u001b[0m\u001b[1;32m    126\u001b[0m             .format(axes, m.ndim))\n\u001b[1;32m    127\u001b[0m \u001b[0;34m\u001b[0m\u001b[0m\n",
            "\u001b[0;31mValueError\u001b[0m: Axes=(2, 3) out of range for array of ndim=3."
          ]
        }
      ]
    },
    {
      "cell_type": "markdown",
      "metadata": {
        "id": "6r7qNhVcPUhD"
      },
      "source": [
        "The variable `example` uses the `np.rot90` function to rotate a 3D matrix with the shape 2x2x2, the error is caused by the misusing of the axes parameter, one of them exceeds the number of axes that the matrix have. The problem is easily solved by using one of the following examples `axes=(0,1)`, `axes=(1,2)`, `axes=(0,1)`, `axes=(2,1)`."
      ]
    },
    {
      "cell_type": "markdown",
      "metadata": {
        "id": "g4HARMJBPUhD"
      },
      "source": [
        "**Conclusion:** To add something more to what has being said or explained. The \n",
        "common use of this function is on images when they need to be rotated."
      ]
    },
    {
      "cell_type": "markdown",
      "metadata": {
        "id": "JdbewZE5PUhE"
      },
      "source": [
        "<a id='function3'></a>\n",
        "## Function 3 - np.sort\n",
        "\n",
        "> **np.sort(a, axis=- 1, kind=None, order=None)**\n",
        ">\n",
        "> Returns a sorted copy of an array.\n",
        "\n",
        "\n",
        "##### For more detail please consult the official documentation [here](https://numpy.org/devdocs/reference/generated/numpy.sort.html)"
      ]
    },
    {
      "cell_type": "code",
      "metadata": {
        "colab": {
          "base_uri": "https://localhost:8080/"
        },
        "id": "Zf0XDNeqPUhE",
        "outputId": "6af03162-fc53-4f90-fdd2-bbc12f32390b"
      },
      "source": [
        "# Example 1 - working\n",
        "a = np.random.randint(100, size=(5,5)) # Generates a 5x5 matrix with random integers.\n",
        "print(\"Preview of array 'a':\")\n",
        "print(a,'\\n')\n",
        "print(\"Array 'a' sorted by row:\")\n",
        "print(np.sort(a),'\\n') # Simplest use of this function\n",
        "\n",
        "b = np.random.randint(100, size=(5,5))\n",
        "print(\"Preview of array 'b':\")\n",
        "print(b,'\\n')\n",
        "print(\"Array 'b' sorted by column:\")\n",
        "print(np.sort(b, axis=0),'\\n') # The axis parameter defines the orientation.\n",
        "\n",
        "# To sort the entire matrix we have to use a diferent appoach.\n",
        "c = np.random.randint(100, size=(5,5))\n",
        "print(\"Preview of array 'c':\")\n",
        "print(c,'\\n')\n",
        "c_sorted = np.sort(c, axis=None) # This will sort the entire matrix flatening it.\n",
        "print(\"Preview of sorted 'c':\")\n",
        "print(c_sorted,'\\n')\n",
        "# To return to the initial form we have to use the reshape funtion.\n",
        "print(\"Array 'c' totally sorted:\")\n",
        "print(c_sorted.reshape(5,5))"
      ],
      "execution_count": null,
      "outputs": [
        {
          "output_type": "stream",
          "text": [
            "Preview of array 'a':\n",
            "[[39 22 22 16 31]\n",
            " [13 49 79 20 76]\n",
            " [63 89 65  6 10]\n",
            " [22 87 40 21 32]\n",
            " [32 16 38 57 43]] \n",
            "\n",
            "Array 'a' sorted by row:\n",
            "[[16 22 22 31 39]\n",
            " [13 20 49 76 79]\n",
            " [ 6 10 63 65 89]\n",
            " [21 22 32 40 87]\n",
            " [16 32 38 43 57]] \n",
            "\n",
            "Preview of array 'b':\n",
            "[[65 31 30 56 93]\n",
            " [36 27 41 73  3]\n",
            " [95 51 42 24 67]\n",
            " [63 29 17 47 98]\n",
            " [72 76  8 12 43]] \n",
            "\n",
            "Array 'b' sorted by column:\n",
            "[[36 27  8 12  3]\n",
            " [63 29 17 24 43]\n",
            " [65 31 30 47 67]\n",
            " [72 51 41 56 93]\n",
            " [95 76 42 73 98]] \n",
            "\n",
            "Preview of array 'c':\n",
            "[[ 5 50 52 85 41]\n",
            " [12 51 13 21 73]\n",
            " [20  4 66 89 54]\n",
            " [ 9 70 65 27 99]\n",
            " [36 44 23 24 78]] \n",
            "\n",
            "Preview of sorted 'c':\n",
            "[ 4  5  9 12 13 20 21 23 24 27 36 41 44 50 51 52 54 65 66 70 73 78 85 89\n",
            " 99] \n",
            "\n",
            "Array 'c' totally sorted:\n",
            "[[ 4  5  9 12 13]\n",
            " [20 21 23 24 27]\n",
            " [36 41 44 50 51]\n",
            " [52 54 65 66 70]\n",
            " [73 78 85 89 99]]\n"
          ],
          "name": "stdout"
        }
      ]
    },
    {
      "cell_type": "markdown",
      "metadata": {
        "id": "kHa_fba1PUhE"
      },
      "source": [
        "With these examples I intended to demonstrate a simple but usefull way of usind `np.sort` function. Sorting by row, by column and the entire array. The coments on the code explain the steps taken to solve the different sort needs."
      ]
    },
    {
      "cell_type": "code",
      "metadata": {
        "colab": {
          "base_uri": "https://localhost:8080/"
        },
        "id": "ycKhS6udPUhF",
        "outputId": "0a60f577-05fb-4f09-f0dc-26278819deb3"
      },
      "source": [
        "# Example 2 - working\n",
        "# A more complex use of this function with different data types:\n",
        "# Creating an array with info from student data:\n",
        "students = [('John', 80.7, 35, True), ('Sarah', 91.6, 28, True), ('Abel', 91.8, 34, False), ('Martha', 81.65, 30, True)]\n",
        "dtype = [('name', 'S10'), ('score', float), ('age', int), ('scholarship', bool)]\n",
        "student_data = np.array(students, dtype=dtype) # Creates a structured array\n",
        "print(\"Preview of Student Data array:\")\n",
        "print(student_data,'\\n')\n",
        "\n",
        "sorted_by_score = np.sort(student_data, order='score')\n",
        "print(\"Student Data sorted by 'Score':\")\n",
        "print(sorted_by_score,'\\n')\n",
        "\n",
        "# If you want it inverted you can use that simple trick '[::-1]'\n",
        "print(\"Student Data sorted by 'Score' inverted:\")\n",
        "print(sorted_by_score[::-1],'\\n')\n",
        "\n",
        "name_age = np.sort(student_data, order=['name', 'age'])\n",
        "print(\"Student Data sorted by 'Name' and 'Age':\")\n",
        "print(name_age)"
      ],
      "execution_count": null,
      "outputs": [
        {
          "output_type": "stream",
          "text": [
            "Preview of Student Data array:\n",
            "[(b'John', 80.7 , 35,  True) (b'Sarah', 91.6 , 28,  True)\n",
            " (b'Abel', 91.8 , 34, False) (b'Martha', 81.65, 30,  True)] \n",
            "\n",
            "Student Data sorted by 'Score':\n",
            "[(b'John', 80.7 , 35,  True) (b'Martha', 81.65, 30,  True)\n",
            " (b'Sarah', 91.6 , 28,  True) (b'Abel', 91.8 , 34, False)] \n",
            "\n",
            "Student Data sorted by 'Score' inverted:\n",
            "[(b'Abel', 91.8 , 34, False) (b'Sarah', 91.6 , 28,  True)\n",
            " (b'Martha', 81.65, 30,  True) (b'John', 80.7 , 35,  True)] \n",
            "\n",
            "Student Data sorted by 'Name' and 'Age':\n",
            "[(b'Abel', 91.8 , 34, False) (b'John', 80.7 , 35,  True)\n",
            " (b'Martha', 81.65, 30,  True) (b'Sarah', 91.6 , 28,  True)]\n"
          ],
          "name": "stdout"
        }
      ]
    },
    {
      "cell_type": "markdown",
      "metadata": {
        "id": "aWP4kspZPUhF"
      },
      "source": [
        "On this example the `np.sort` function is used on a complex form to deal with different data types. As demonstrated on the example is possible to sort an array by each one or several different data types."
      ]
    },
    {
      "cell_type": "code",
      "metadata": {
        "id": "Sbe5en3XPUhF",
        "outputId": "6af87f70-6a2d-4e27-a954-8ac15eb0c936"
      },
      "source": [
        "# Example 3 - breaking (to illustrate when it breaks)\n",
        "# Grabing the array student_data from the example above:\n",
        "np.sort(student_data, axis=1, order='scholarship')"
      ],
      "execution_count": null,
      "outputs": [
        {
          "output_type": "error",
          "ename": "AxisError",
          "evalue": "axis 1 is out of bounds for array of dimension 1",
          "traceback": [
            "\u001b[0;31m---------------------------------------------------------------------------\u001b[0m",
            "\u001b[0;31mAxisError\u001b[0m                                 Traceback (most recent call last)",
            "\u001b[0;32m<ipython-input-13-0f52f7eed0c9>\u001b[0m in \u001b[0;36m<module>\u001b[0;34m\u001b[0m\n\u001b[1;32m      1\u001b[0m \u001b[0;31m# Example 3 - breaking (to illustrate when it breaks)\u001b[0m\u001b[0;34m\u001b[0m\u001b[0;34m\u001b[0m\u001b[0;34m\u001b[0m\u001b[0m\n\u001b[1;32m      2\u001b[0m \u001b[0;31m# Grabing the array student_data from the example above:\u001b[0m\u001b[0;34m\u001b[0m\u001b[0;34m\u001b[0m\u001b[0;34m\u001b[0m\u001b[0m\n\u001b[0;32m----> 3\u001b[0;31m \u001b[0mnp\u001b[0m\u001b[0;34m.\u001b[0m\u001b[0msort\u001b[0m\u001b[0;34m(\u001b[0m\u001b[0mstudent_data\u001b[0m\u001b[0;34m,\u001b[0m \u001b[0maxis\u001b[0m\u001b[0;34m=\u001b[0m\u001b[0;36m1\u001b[0m\u001b[0;34m,\u001b[0m \u001b[0morder\u001b[0m\u001b[0;34m=\u001b[0m\u001b[0;34m'scholarship'\u001b[0m\u001b[0;34m)\u001b[0m\u001b[0;34m\u001b[0m\u001b[0;34m\u001b[0m\u001b[0m\n\u001b[0m",
            "\u001b[0;32m<__array_function__ internals>\u001b[0m in \u001b[0;36msort\u001b[0;34m(*args, **kwargs)\u001b[0m\n",
            "\u001b[0;32m/opt/conda/lib/python3.8/site-packages/numpy/core/fromnumeric.py\u001b[0m in \u001b[0;36msort\u001b[0;34m(a, axis, kind, order)\u001b[0m\n\u001b[1;32m    989\u001b[0m     \u001b[0;32melse\u001b[0m\u001b[0;34m:\u001b[0m\u001b[0;34m\u001b[0m\u001b[0;34m\u001b[0m\u001b[0m\n\u001b[1;32m    990\u001b[0m         \u001b[0ma\u001b[0m \u001b[0;34m=\u001b[0m \u001b[0masanyarray\u001b[0m\u001b[0;34m(\u001b[0m\u001b[0ma\u001b[0m\u001b[0;34m)\u001b[0m\u001b[0;34m.\u001b[0m\u001b[0mcopy\u001b[0m\u001b[0;34m(\u001b[0m\u001b[0morder\u001b[0m\u001b[0;34m=\u001b[0m\u001b[0;34m\"K\"\u001b[0m\u001b[0;34m)\u001b[0m\u001b[0;34m\u001b[0m\u001b[0;34m\u001b[0m\u001b[0m\n\u001b[0;32m--> 991\u001b[0;31m     \u001b[0ma\u001b[0m\u001b[0;34m.\u001b[0m\u001b[0msort\u001b[0m\u001b[0;34m(\u001b[0m\u001b[0maxis\u001b[0m\u001b[0;34m=\u001b[0m\u001b[0maxis\u001b[0m\u001b[0;34m,\u001b[0m \u001b[0mkind\u001b[0m\u001b[0;34m=\u001b[0m\u001b[0mkind\u001b[0m\u001b[0;34m,\u001b[0m \u001b[0morder\u001b[0m\u001b[0;34m=\u001b[0m\u001b[0morder\u001b[0m\u001b[0;34m)\u001b[0m\u001b[0;34m\u001b[0m\u001b[0;34m\u001b[0m\u001b[0m\n\u001b[0m\u001b[1;32m    992\u001b[0m     \u001b[0;32mreturn\u001b[0m \u001b[0ma\u001b[0m\u001b[0;34m\u001b[0m\u001b[0;34m\u001b[0m\u001b[0m\n\u001b[1;32m    993\u001b[0m \u001b[0;34m\u001b[0m\u001b[0m\n",
            "\u001b[0;31mAxisError\u001b[0m: axis 1 is out of bounds for array of dimension 1"
          ]
        }
      ]
    },
    {
      "cell_type": "markdown",
      "metadata": {
        "id": "i_nPdelJPUhF"
      },
      "source": [
        "It breaks when we use the `axis` parameter out of the array dimension. This instruction would work on a 3D array but not in this is one that is 2D. To avoid this error we use `axis=0`\n",
        "or just leave it as default with the value `axis=-1`."
      ]
    },
    {
      "cell_type": "markdown",
      "metadata": {
        "id": "3ghOQxcEPUhF"
      },
      "source": [
        "**Conclusion:** We use this function when we need to sort any type of array or arrays of diferent data types. The sorting is made in the ascending direction i.e from the minimum value to the maximum, but we can invert it as demonstrated on the second example."
      ]
    },
    {
      "cell_type": "markdown",
      "metadata": {
        "id": "DRUiOP6bPUhG"
      },
      "source": [
        "<a id='function4'></a>\n",
        "## Function 4 - np.extract\n",
        "\n",
        "> **np.extract(condition, arr)**\n",
        ">\n",
        "> Returns the selected elements of an array that satisfy some condition.\n",
        "\n",
        "##### For more detail please consult the official documentation [here](https://numpy.org/devdocs/reference/generated/numpy.extract.html)"
      ]
    },
    {
      "cell_type": "code",
      "metadata": {
        "id": "ugJE4FtFPUhG",
        "outputId": "76fd51a5-aaa9-42a8-f5cd-30ec450fdc70"
      },
      "source": [
        "# Example 1 - working\n",
        "arr = np.arange(25).reshape((5, 5))\n",
        "print(\"Array Preview:\")\n",
        "print(arr,'\\n')\n",
        "\n",
        "condition = np.mod(arr, 2)==0 # selecting the divisible by 2 (even numbers).\n",
        "print(\"Preview of 'condition':\")\n",
        "print(condition,'\\n')\n",
        "\n",
        "result = np.extract(condition,arr)\n",
        "print(\"Extracting all even numbers of 'arr':\")\n",
        "print(result)"
      ],
      "execution_count": null,
      "outputs": [
        {
          "output_type": "stream",
          "text": [
            "Array Preview:\n",
            "[[ 0  1  2  3  4]\n",
            " [ 5  6  7  8  9]\n",
            " [10 11 12 13 14]\n",
            " [15 16 17 18 19]\n",
            " [20 21 22 23 24]] \n",
            "\n",
            "Preview of 'condition':\n",
            "[[ True False  True False  True]\n",
            " [False  True False  True False]\n",
            " [ True False  True False  True]\n",
            " [False  True False  True False]\n",
            " [ True False  True False  True]] \n",
            "\n",
            "Extracting all even numbers of 'arr':\n",
            "[ 0  2  4  6  8 10 12 14 16 18 20 22 24]\n"
          ],
          "name": "stdout"
        }
      ]
    },
    {
      "cell_type": "markdown",
      "metadata": {
        "id": "sgUDFf1xPUhG"
      },
      "source": [
        "On the example we created a condition array with boolean values that matches the original array, this is the condition that will extract all the `True` items of the original array and will create a new array. This function `np.extract` doesn't modify the orginal array."
      ]
    },
    {
      "cell_type": "code",
      "metadata": {
        "id": "-Sy5o4DBPUhH",
        "outputId": "29fe4fd4-6233-441b-896a-b8be54520a1c"
      },
      "source": [
        "# Example 2 - working\n",
        "arr = np.random.randint(100, size=(5,5))\n",
        "print(\"Preview of 'arr':\")\n",
        "print(arr,'\\n')\n",
        "\n",
        "# Let's pretend that we need to extract all the values on the diagonal of an array.\n",
        "condition = np.identity(5, bool) # we already know that this will produce the condition we need to our task.\n",
        "print(\"Preview of 'condition':\")\n",
        "print(condition,'\\n')\n",
        "\n",
        "result = np.extract(condition, arr)\n",
        "print(\"Extracting the values of the diagonal of 'arr':\")\n",
        "print(result)"
      ],
      "execution_count": null,
      "outputs": [
        {
          "output_type": "stream",
          "text": [
            "Preview of 'arr':\n",
            "[[98 11 59  9 88]\n",
            " [ 3 26 29 58 34]\n",
            " [76 65 41 84 50]\n",
            " [ 1 75 85 87 74]\n",
            " [ 7 53 66 51 99]] \n",
            "\n",
            "Preview of 'condition':\n",
            "[[ True False False False False]\n",
            " [False  True False False False]\n",
            " [False False  True False False]\n",
            " [False False False  True False]\n",
            " [False False False False  True]] \n",
            "\n",
            "Extracting the values of the diagonal of 'arr':\n",
            "[98 26 41 87 99]\n"
          ],
          "name": "stdout"
        }
      ]
    },
    {
      "cell_type": "markdown",
      "metadata": {
        "id": "dllNhFyBPUhH"
      },
      "source": [
        "Simulating a real life example, were we needed to extract the values from the diagonal of a matrix. To create the `condition` we used a function explained in other example of this notebook `np.identity` that satisfied our needs."
      ]
    },
    {
      "cell_type": "code",
      "metadata": {
        "id": "P3eyw_HcPUhH",
        "outputId": "bdc164f2-15d0-457c-fdb7-d5b8b273bc9f"
      },
      "source": [
        "# Example 3 - breaking (to illustrate when it breaks)\n",
        "arr = np.arange(9).reshape(3,3)\n",
        "print(arr,'\\n')\n",
        "\n",
        "condition = np.array([[True,False,False,True],\n",
        "                     [False,True,True,False],\n",
        "                     [True,False,True,False]])\n",
        "print(condition,'\\n')\n",
        "\n",
        "result = np.extract(condition,arr)\n",
        "print(result)"
      ],
      "execution_count": null,
      "outputs": [
        {
          "output_type": "stream",
          "text": [
            "[[0 1 2]\n",
            " [3 4 5]\n",
            " [6 7 8]] \n",
            "\n",
            "[[ True False False  True]\n",
            " [False  True  True False]\n",
            " [ True False  True False]] \n",
            "\n"
          ],
          "name": "stdout"
        },
        {
          "output_type": "error",
          "ename": "IndexError",
          "evalue": "index 10 is out of bounds for axis 0 with size 9",
          "traceback": [
            "\u001b[0;31m---------------------------------------------------------------------------\u001b[0m",
            "\u001b[0;31mIndexError\u001b[0m                                Traceback (most recent call last)",
            "\u001b[0;32m<ipython-input-19-3af46fc654f2>\u001b[0m in \u001b[0;36m<module>\u001b[0;34m\u001b[0m\n\u001b[1;32m      8\u001b[0m \u001b[0mprint\u001b[0m\u001b[0;34m(\u001b[0m\u001b[0mcondition\u001b[0m\u001b[0;34m,\u001b[0m\u001b[0;34m'\\n'\u001b[0m\u001b[0;34m)\u001b[0m\u001b[0;34m\u001b[0m\u001b[0;34m\u001b[0m\u001b[0m\n\u001b[1;32m      9\u001b[0m \u001b[0;34m\u001b[0m\u001b[0m\n\u001b[0;32m---> 10\u001b[0;31m \u001b[0mresult\u001b[0m \u001b[0;34m=\u001b[0m \u001b[0mnp\u001b[0m\u001b[0;34m.\u001b[0m\u001b[0mextract\u001b[0m\u001b[0;34m(\u001b[0m\u001b[0mcondition\u001b[0m\u001b[0;34m,\u001b[0m\u001b[0marr\u001b[0m\u001b[0;34m)\u001b[0m\u001b[0;34m\u001b[0m\u001b[0;34m\u001b[0m\u001b[0m\n\u001b[0m\u001b[1;32m     11\u001b[0m \u001b[0mprint\u001b[0m\u001b[0;34m(\u001b[0m\u001b[0mresult\u001b[0m\u001b[0;34m)\u001b[0m\u001b[0;34m\u001b[0m\u001b[0;34m\u001b[0m\u001b[0m\n",
            "\u001b[0;32m<__array_function__ internals>\u001b[0m in \u001b[0;36mextract\u001b[0;34m(*args, **kwargs)\u001b[0m\n",
            "\u001b[0;32m/opt/conda/lib/python3.8/site-packages/numpy/lib/function_base.py\u001b[0m in \u001b[0;36mextract\u001b[0;34m(condition, arr)\u001b[0m\n\u001b[1;32m   1692\u001b[0m \u001b[0;34m\u001b[0m\u001b[0m\n\u001b[1;32m   1693\u001b[0m     \"\"\"\n\u001b[0;32m-> 1694\u001b[0;31m     \u001b[0;32mreturn\u001b[0m \u001b[0m_nx\u001b[0m\u001b[0;34m.\u001b[0m\u001b[0mtake\u001b[0m\u001b[0;34m(\u001b[0m\u001b[0mravel\u001b[0m\u001b[0;34m(\u001b[0m\u001b[0marr\u001b[0m\u001b[0;34m)\u001b[0m\u001b[0;34m,\u001b[0m \u001b[0mnonzero\u001b[0m\u001b[0;34m(\u001b[0m\u001b[0mravel\u001b[0m\u001b[0;34m(\u001b[0m\u001b[0mcondition\u001b[0m\u001b[0;34m)\u001b[0m\u001b[0;34m)\u001b[0m\u001b[0;34m[\u001b[0m\u001b[0;36m0\u001b[0m\u001b[0;34m]\u001b[0m\u001b[0;34m)\u001b[0m\u001b[0;34m\u001b[0m\u001b[0;34m\u001b[0m\u001b[0m\n\u001b[0m\u001b[1;32m   1695\u001b[0m \u001b[0;34m\u001b[0m\u001b[0m\n\u001b[1;32m   1696\u001b[0m \u001b[0;34m\u001b[0m\u001b[0m\n",
            "\u001b[0;32m<__array_function__ internals>\u001b[0m in \u001b[0;36mtake\u001b[0;34m(*args, **kwargs)\u001b[0m\n",
            "\u001b[0;32m/opt/conda/lib/python3.8/site-packages/numpy/core/fromnumeric.py\u001b[0m in \u001b[0;36mtake\u001b[0;34m(a, indices, axis, out, mode)\u001b[0m\n\u001b[1;32m    189\u001b[0m            [5, 7]])\n\u001b[1;32m    190\u001b[0m     \"\"\"\n\u001b[0;32m--> 191\u001b[0;31m     \u001b[0;32mreturn\u001b[0m \u001b[0m_wrapfunc\u001b[0m\u001b[0;34m(\u001b[0m\u001b[0ma\u001b[0m\u001b[0;34m,\u001b[0m \u001b[0;34m'take'\u001b[0m\u001b[0;34m,\u001b[0m \u001b[0mindices\u001b[0m\u001b[0;34m,\u001b[0m \u001b[0maxis\u001b[0m\u001b[0;34m=\u001b[0m\u001b[0maxis\u001b[0m\u001b[0;34m,\u001b[0m \u001b[0mout\u001b[0m\u001b[0;34m=\u001b[0m\u001b[0mout\u001b[0m\u001b[0;34m,\u001b[0m \u001b[0mmode\u001b[0m\u001b[0;34m=\u001b[0m\u001b[0mmode\u001b[0m\u001b[0;34m)\u001b[0m\u001b[0;34m\u001b[0m\u001b[0;34m\u001b[0m\u001b[0m\n\u001b[0m\u001b[1;32m    192\u001b[0m \u001b[0;34m\u001b[0m\u001b[0m\n\u001b[1;32m    193\u001b[0m \u001b[0;34m\u001b[0m\u001b[0m\n",
            "\u001b[0;32m/opt/conda/lib/python3.8/site-packages/numpy/core/fromnumeric.py\u001b[0m in \u001b[0;36m_wrapfunc\u001b[0;34m(obj, method, *args, **kwds)\u001b[0m\n\u001b[1;32m     56\u001b[0m \u001b[0;34m\u001b[0m\u001b[0m\n\u001b[1;32m     57\u001b[0m     \u001b[0;32mtry\u001b[0m\u001b[0;34m:\u001b[0m\u001b[0;34m\u001b[0m\u001b[0;34m\u001b[0m\u001b[0m\n\u001b[0;32m---> 58\u001b[0;31m         \u001b[0;32mreturn\u001b[0m \u001b[0mbound\u001b[0m\u001b[0;34m(\u001b[0m\u001b[0;34m*\u001b[0m\u001b[0margs\u001b[0m\u001b[0;34m,\u001b[0m \u001b[0;34m**\u001b[0m\u001b[0mkwds\u001b[0m\u001b[0;34m)\u001b[0m\u001b[0;34m\u001b[0m\u001b[0;34m\u001b[0m\u001b[0m\n\u001b[0m\u001b[1;32m     59\u001b[0m     \u001b[0;32mexcept\u001b[0m \u001b[0mTypeError\u001b[0m\u001b[0;34m:\u001b[0m\u001b[0;34m\u001b[0m\u001b[0;34m\u001b[0m\u001b[0m\n\u001b[1;32m     60\u001b[0m         \u001b[0;31m# A TypeError occurs if the object does have such a method in its\u001b[0m\u001b[0;34m\u001b[0m\u001b[0;34m\u001b[0m\u001b[0;34m\u001b[0m\u001b[0m\n",
            "\u001b[0;31mIndexError\u001b[0m: index 10 is out of bounds for axis 0 with size 9"
          ]
        }
      ]
    },
    {
      "cell_type": "markdown",
      "metadata": {
        "id": "ZBNr4YlAPUhH"
      },
      "source": [
        "As demonstrated, the function breaks when the shape of the matrices of the parameters `condition` and `arr` does not match."
      ]
    },
    {
      "cell_type": "markdown",
      "metadata": {
        "id": "X1DVDl4_PUhH"
      },
      "source": [
        "**Conclusion:** The simple use of this function alouds the extraction of the selected elements of any array in a graffic way. By selecting the elements to extract on the `condition` parameter we can visualize were the values will be extracted. As said before this function does not alter the original array. The use of this function equals `arr[condition]` if `condition` is boolean."
      ]
    },
    {
      "cell_type": "markdown",
      "metadata": {
        "id": "e6nTGyqiPUhK"
      },
      "source": [
        "<a id='function5'></a>\n",
        "## Function 5 - np.count_nonzero\n",
        "\n",
        "> **np.count_nonzero(a, axis=None, *, keepdims=False)**\n",
        ">\n",
        "> Returns the number `int` of non-zero values in the array given in `a`.\n",
        "\n",
        "##### For more detail please consult the official documentation [here](https://numpy.org/devdocs/reference/generated/numpy.count_nonzero.html)"
      ]
    },
    {
      "cell_type": "code",
      "metadata": {
        "id": "qpBuP0LrPUhK",
        "outputId": "0aad3eea-3445-4a42-b80e-5a19314f898c"
      },
      "source": [
        "# Example 1 - working\n",
        "a = np.random.randint(3, size=10)\n",
        "print(\"Preview of 'a':\")\n",
        "print(a,'\\n')\n",
        "\n",
        "nonzeros = np.count_nonzero(a)\n",
        "print(f\"There are {nonzeros} non-zero values in 'a'\")"
      ],
      "execution_count": null,
      "outputs": [
        {
          "output_type": "stream",
          "text": [
            "Preview of 'a':\n",
            "[0 0 0 1 1 1 1 0 1 1] \n",
            "\n",
            "There are 6 non-zero values in 'a'\n"
          ],
          "name": "stdout"
        }
      ]
    },
    {
      "cell_type": "markdown",
      "metadata": {
        "id": "GZmGK1aEPUhK"
      },
      "source": [
        "In this simple example, we create a random generated array of 10 numbers, then count the non-zero values using `np.count_nonzero`. In case of a matrix with 2 dimentions or more this simple use of `np.count_nonzero` function will flatten the array in `a` parameter and count all the non-zero values in it."
      ]
    },
    {
      "cell_type": "code",
      "metadata": {
        "id": "cdOdVHAfPUhK",
        "outputId": "cec9d235-75b3-48b5-d973-388f0ff9af4f"
      },
      "source": [
        "# Example 2 - working\n",
        "arr = np.random.randint(5, size=(5,5))\n",
        "print(\"Preview of 'arr':\")\n",
        "print(arr, '\\n')\n",
        "\n",
        "# Counting the non-zero values per column on a matrix.\n",
        "column_count = np.count_nonzero(arr, axis=0)\n",
        "print(column_count,'- Array with the counts per column.\\n')\n",
        "print(f\"There are {column_count[0]} non-zero values on the fist column of 'arr';\")\n",
        "print(f\"There are {column_count[1]} non-zero values on the second column of 'arr';\")\n",
        "print(f\"There are {column_count[2]} non-zero values on the third column of 'arr';\")\n",
        "print(f\"There are {column_count[3]} non-zero values on the fourth column of 'arr';\")\n",
        "print(f\"There are {column_count[4]} non-zero values on the fifth column of 'arr'.\\n\")\n",
        "\n",
        "# Counting the non-zero values per row on a matrix.\n",
        "row_count = np.count_nonzero(arr, axis=1, keepdims=True)\n",
        "print(row_count,'- Array with the counts per row.\\n')\n",
        "print(f\"There are {row_count[0][0]} non-zero values on the fist row of 'arr';\")\n",
        "print(f\"There are {row_count[1][0]} non-zero values on the second row of 'arr';\")\n",
        "print(f\"There are {row_count[2][0]} non-zero values on the third row of 'arr';\")\n",
        "print(f\"There are {row_count[3][0]} non-zero values on the fourth row of 'arr';\")\n",
        "print(f\"There are {row_count[4][0]} non-zero values on the fifth row of 'arr'.\")"
      ],
      "execution_count": null,
      "outputs": [
        {
          "output_type": "stream",
          "text": [
            "Preview of 'arr':\n",
            "[[1 0 4 4 1]\n",
            " [3 4 1 4 2]\n",
            " [2 3 2 1 2]\n",
            " [2 2 0 3 2]\n",
            " [4 4 2 1 2]] \n",
            "\n",
            "[5 4 4 5 5] - Array with the counts per column.\n",
            "\n",
            "There are 5 non-zero values on the fist column of 'arr';\n",
            "There are 4 non-zero values on the second column of 'arr';\n",
            "There are 4 non-zero values on the third column of 'arr';\n",
            "There are 5 non-zero values on the fourth column of 'arr';\n",
            "There are 5 non-zero values on the fifth column of 'arr'.\n",
            "\n",
            "[[4]\n",
            " [5]\n",
            " [5]\n",
            " [4]\n",
            " [5]] - Array with the counts per row.\n",
            "\n",
            "There are 4 non-zero values on the fist row of 'arr';\n",
            "There are 5 non-zero values on the second row of 'arr';\n",
            "There are 5 non-zero values on the third row of 'arr';\n",
            "There are 4 non-zero values on the fourth row of 'arr';\n",
            "There are 5 non-zero values on the fifth row of 'arr'.\n"
          ],
          "name": "stdout"
        }
      ]
    },
    {
      "cell_type": "markdown",
      "metadata": {
        "id": "4ZRSCFyXPUhK"
      },
      "source": [
        "Here is demonstrated a way of using all the parameters in `np.count_nonzero`. When `axis=0` the function will count all non-zero values per column and returns an array with the corresponding values. When `axis=1` the function will count all non-zero values per row and returns an array with the corresponding values, with the paremeter `keepdims=True` we can keep the returned array vertically to facilitate the reading of the values."
      ]
    },
    {
      "cell_type": "code",
      "metadata": {
        "id": "DK0X9uQpPUhL",
        "outputId": "4c85d763-8198-4195-bb5e-8b4de80a2b15"
      },
      "source": [
        "# Example 3 - breaking (to illustrate when it breaks)\n",
        "np.count_nonzero(a, axis=1)"
      ],
      "execution_count": null,
      "outputs": [
        {
          "output_type": "error",
          "ename": "AxisError",
          "evalue": "axis 1 is out of bounds for array of dimension 1",
          "traceback": [
            "\u001b[0;31m---------------------------------------------------------------------------\u001b[0m",
            "\u001b[0;31mAxisError\u001b[0m                                 Traceback (most recent call last)",
            "\u001b[0;32m<ipython-input-26-90d850b3a239>\u001b[0m in \u001b[0;36m<module>\u001b[0;34m\u001b[0m\n\u001b[1;32m      1\u001b[0m \u001b[0;31m# Example 3 - breaking (to illustrate when it breaks)\u001b[0m\u001b[0;34m\u001b[0m\u001b[0;34m\u001b[0m\u001b[0;34m\u001b[0m\u001b[0m\n\u001b[0;32m----> 2\u001b[0;31m \u001b[0mnp\u001b[0m\u001b[0;34m.\u001b[0m\u001b[0mcount_nonzero\u001b[0m\u001b[0;34m(\u001b[0m\u001b[0ma\u001b[0m\u001b[0;34m,\u001b[0m \u001b[0maxis\u001b[0m\u001b[0;34m=\u001b[0m\u001b[0;36m1\u001b[0m\u001b[0;34m)\u001b[0m\u001b[0;34m\u001b[0m\u001b[0;34m\u001b[0m\u001b[0m\n\u001b[0m",
            "\u001b[0;32m<__array_function__ internals>\u001b[0m in \u001b[0;36mcount_nonzero\u001b[0;34m(*args, **kwargs)\u001b[0m\n",
            "\u001b[0;32m/opt/conda/lib/python3.8/site-packages/numpy/core/numeric.py\u001b[0m in \u001b[0;36mcount_nonzero\u001b[0;34m(a, axis, keepdims)\u001b[0m\n\u001b[1;32m    460\u001b[0m         \u001b[0ma_bool\u001b[0m \u001b[0;34m=\u001b[0m \u001b[0ma\u001b[0m\u001b[0;34m.\u001b[0m\u001b[0mastype\u001b[0m\u001b[0;34m(\u001b[0m\u001b[0mnp\u001b[0m\u001b[0;34m.\u001b[0m\u001b[0mbool_\u001b[0m\u001b[0;34m,\u001b[0m \u001b[0mcopy\u001b[0m\u001b[0;34m=\u001b[0m\u001b[0;32mFalse\u001b[0m\u001b[0;34m)\u001b[0m\u001b[0;34m\u001b[0m\u001b[0;34m\u001b[0m\u001b[0m\n\u001b[1;32m    461\u001b[0m \u001b[0;34m\u001b[0m\u001b[0m\n\u001b[0;32m--> 462\u001b[0;31m     \u001b[0;32mreturn\u001b[0m \u001b[0ma_bool\u001b[0m\u001b[0;34m.\u001b[0m\u001b[0msum\u001b[0m\u001b[0;34m(\u001b[0m\u001b[0maxis\u001b[0m\u001b[0;34m=\u001b[0m\u001b[0maxis\u001b[0m\u001b[0;34m,\u001b[0m \u001b[0mdtype\u001b[0m\u001b[0;34m=\u001b[0m\u001b[0mnp\u001b[0m\u001b[0;34m.\u001b[0m\u001b[0mintp\u001b[0m\u001b[0;34m,\u001b[0m \u001b[0mkeepdims\u001b[0m\u001b[0;34m=\u001b[0m\u001b[0mkeepdims\u001b[0m\u001b[0;34m)\u001b[0m\u001b[0;34m\u001b[0m\u001b[0;34m\u001b[0m\u001b[0m\n\u001b[0m\u001b[1;32m    463\u001b[0m \u001b[0;34m\u001b[0m\u001b[0m\n\u001b[1;32m    464\u001b[0m \u001b[0;34m\u001b[0m\u001b[0m\n",
            "\u001b[0;32m/opt/conda/lib/python3.8/site-packages/numpy/core/_methods.py\u001b[0m in \u001b[0;36m_sum\u001b[0;34m(a, axis, dtype, out, keepdims, initial, where)\u001b[0m\n\u001b[1;32m     45\u001b[0m def _sum(a, axis=None, dtype=None, out=None, keepdims=False,\n\u001b[1;32m     46\u001b[0m          initial=_NoValue, where=True):\n\u001b[0;32m---> 47\u001b[0;31m     \u001b[0;32mreturn\u001b[0m \u001b[0mumr_sum\u001b[0m\u001b[0;34m(\u001b[0m\u001b[0ma\u001b[0m\u001b[0;34m,\u001b[0m \u001b[0maxis\u001b[0m\u001b[0;34m,\u001b[0m \u001b[0mdtype\u001b[0m\u001b[0;34m,\u001b[0m \u001b[0mout\u001b[0m\u001b[0;34m,\u001b[0m \u001b[0mkeepdims\u001b[0m\u001b[0;34m,\u001b[0m \u001b[0minitial\u001b[0m\u001b[0;34m,\u001b[0m \u001b[0mwhere\u001b[0m\u001b[0;34m)\u001b[0m\u001b[0;34m\u001b[0m\u001b[0;34m\u001b[0m\u001b[0m\n\u001b[0m\u001b[1;32m     48\u001b[0m \u001b[0;34m\u001b[0m\u001b[0m\n\u001b[1;32m     49\u001b[0m def _prod(a, axis=None, dtype=None, out=None, keepdims=False,\n",
            "\u001b[0;31mAxisError\u001b[0m: axis 1 is out of bounds for array of dimension 1"
          ]
        }
      ]
    },
    {
      "cell_type": "markdown",
      "metadata": {
        "id": "DYGYFbLLPUhL"
      },
      "source": [
        "For this example is used the first array `a` with one dimention. On the second parameter was used `axis=1` that outbounds the dimention of the array, the same error would occur if we use `axis=2` in a 2D array.\n",
        "This problem is easily solved by using the correct value for `axis`, in this case is (0) or leave it blank that would have the same result."
      ]
    },
    {
      "cell_type": "markdown",
      "metadata": {
        "id": "PEi0ErDtPUhL"
      },
      "source": [
        "**Conclusion:** We should use this function when a count of non-zero values in an array is needed. Alternatively we could use it to determine how many zeros are in an array, making a simple calculus with the totals `total elements of the array - np.count_nonzero(array) = number of zeros on the array`."
      ]
    },
    {
      "cell_type": "markdown",
      "metadata": {
        "id": "q01iwSsIPUhL"
      },
      "source": [
        "## Conclusion\n",
        "\n",
        "The creation of this notebook was with the idea to facilitate the understanding on the use of 5 numpy functions that might be less known or used. "
      ]
    },
    {
      "cell_type": "markdown",
      "metadata": {
        "id": "YMQbE0gwPUhM"
      },
      "source": [
        "## Reference Links\n",
        "Here are some links to help find some more info on Numpy:\n",
        "* Numpy official tutorial : https://numpy.org/doc/stable/user/quickstart.html\n",
        "* Numpy w3schools.com Tutorial : https://www.w3schools.com/python/numpy/default.asp"
      ]
    }
  ]
}